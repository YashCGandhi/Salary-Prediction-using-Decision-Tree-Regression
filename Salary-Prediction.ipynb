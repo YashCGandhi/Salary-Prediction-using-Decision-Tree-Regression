{
 "cells": [
  {
   "cell_type": "code",
   "execution_count": 38,
   "metadata": {
    "id": "uIeEtMTVvJjB"
   },
   "outputs": [],
   "source": [
    "import numpy as np\n",
    "import pandas as pd\n",
    "import matplotlib.pyplot as plt\n",
    "import seaborn as sns\n",
    "import matplotlib\n",
    "%matplotlib inline\n",
    "from sklearn.preprocessing import LabelEncoder\n",
    "from sklearn.metrics import mean_absolute_error,mean_squared_error,r2_score\n",
    "from numpy.lib.shape_base import dstack\n",
    "from sklearn.model_selection import train_test_split\n",
    "from math import sqrt"
   ]
  },
  {
   "cell_type": "code",
   "execution_count": 39,
   "metadata": {
    "id": "IH1wXw3uvpx6"
   },
   "outputs": [],
   "source": [
    "df = pd.read_csv('Employee_Salary_Compensation.csv')\n",
    "dataset = df\n",
    "Comp_cols = ['Salaries', 'Overtime', 'Other Salaries', 'Total Salary', 'Retirement', 'Health and Dental', 'Other Benefits', 'Total Benefits', 'Total Compensation']"
   ]
  },
  {
   "cell_type": "markdown",
   "metadata": {
    "id": "Y78cX9Xz0Rx1"
   },
   "source": [
    "# **Data Preprocessing**"
   ]
  },
  {
   "cell_type": "markdown",
   "metadata": {
    "id": "zYqxPw6lv6fp"
   },
   "source": [
    "We will drop the following columns from the dataset,\n",
    "\n",
    "Redundant Columns: Organization Group Code, Job Family Code,Job Code,Department Code, Union Code - as these are categorical variables, retaining the Code will end up considering it as a numerical value thus affecting the mode. Insignificant Columns: Employee Identifier, Total Salary, Total Benefits"
   ]
  },
  {
   "cell_type": "code",
   "execution_count": 40,
   "metadata": {
    "id": "EL6tTGctv56c"
   },
   "outputs": [],
   "source": [
    "df.drop(['Organization Group Code','Job Family Code','Job Code','Department Code','Union Code','Total Salary','Total Benefits'],inplace=True,axis=1)\n",
    "df.drop(['Employee Identifier'],axis=1,inplace=True)\n"
   ]
  },
  {
   "cell_type": "code",
   "execution_count": 41,
   "metadata": {
    "colab": {
     "base_uri": "https://localhost:8080/"
    },
    "id": "49yzPLoqw4dt",
    "outputId": "aa4422f6-8c1e-4bc0-a5b4-393ffa886cc2"
   },
   "outputs": [
    {
     "data": {
      "text/plain": [
       "Year Type               0\n",
       "Year                    0\n",
       "Organization Group      0\n",
       "Department              2\n",
       "Union                 179\n",
       "Job Family              0\n",
       "Job                     5\n",
       "Salaries                0\n",
       "Overtime                0\n",
       "Other Salaries          0\n",
       "Retirement              0\n",
       "Health and Dental       0\n",
       "Other Benefits          0\n",
       "Total Compensation      0\n",
       "dtype: int64"
      ]
     },
     "execution_count": 41,
     "metadata": {},
     "output_type": "execute_result"
    }
   ],
   "source": [
    "df.isnull().sum()"
   ]
  },
  {
   "cell_type": "code",
   "execution_count": 42,
   "metadata": {
    "colab": {
     "base_uri": "https://localhost:8080/"
    },
    "id": "Fc467UQbzOvH",
    "outputId": "b7047172-85d5-476f-f9a6-a583323b7e30"
   },
   "outputs": [
    {
     "data": {
      "text/plain": [
       "Year Type               0\n",
       "Year                    0\n",
       "Organization Group      0\n",
       "Department              0\n",
       "Union                 179\n",
       "Job Family              0\n",
       "Job                     5\n",
       "Salaries                0\n",
       "Overtime                0\n",
       "Other Salaries          0\n",
       "Retirement              0\n",
       "Health and Dental       0\n",
       "Other Benefits          0\n",
       "Total Compensation      0\n",
       "dtype: int64"
      ]
     },
     "execution_count": 42,
     "metadata": {},
     "output_type": "execute_result"
    }
   ],
   "source": [
    "df[df['Organization Group'] == 'General City Responsibilities']['Department'].mode()\n",
    "df['Department'].fillna('GEN General City / Unallocated',inplace=True)\n",
    "df.isnull().sum()"
   ]
  },
  {
   "cell_type": "code",
   "execution_count": 43,
   "metadata": {
    "colab": {
     "base_uri": "https://localhost:8080/"
    },
    "id": "JjCjsYPRzrK-",
    "outputId": "63514883-cc17-4276-8728-3a23949110c1"
   },
   "outputs": [
    {
     "data": {
      "text/plain": [
       "Year Type             0\n",
       "Year                  0\n",
       "Organization Group    0\n",
       "Department            0\n",
       "Union                 0\n",
       "Job Family            0\n",
       "Job                   0\n",
       "Salaries              0\n",
       "Overtime              0\n",
       "Other Salaries        0\n",
       "Retirement            0\n",
       "Health and Dental     0\n",
       "Other Benefits        0\n",
       "Total Compensation    0\n",
       "dtype: int64"
      ]
     },
     "execution_count": 43,
     "metadata": {},
     "output_type": "execute_result"
    }
   ],
   "source": [
    "df[df['Organization Group']=='Culture & Recreation']['Union'].mode()\n",
    "df['Union'].fillna('SEIU, Local 1021, Misc',inplace=True)\n",
    "df[df['Job Family']=='Management']['Job'].mode()\n",
    "df[df['Job Family']=='Dietary & Food']['Job'].mode()\n",
    "df[df['Job Family']=='Park & Zoo']['Job'].mode()\n",
    "pd.set_option('mode.chained_assignment','raise')\n",
    "df.loc[197683,'Job'] = 'Manager II'\n",
    "df.loc[535421,'Job'] = 'Manager II'\n",
    "df.loc[577950,'Job'] = 'Manager II'\n",
    "df.loc[542571,'Job'] = 'Food Service Worker'\n",
    "df.loc[544862,'Job'] = 'Admission Attendant'\n",
    "df.isnull().sum()\n"
   ]
  },
  {
   "cell_type": "code",
   "execution_count": 44,
   "metadata": {
    "id": "aiv6LpHTzzSq"
   },
   "outputs": [],
   "source": [
    "index_names = df[(df['Salaries']<0) |  (df['Overtime']<0) | (df['Other Salaries']<0) | (df['Retirement']<0) | (df['Health and Dental']<0) | (df['Other Benefits']<0) | (df['Total Compensation']<0)].index\n",
    "df.drop(index=index_names,inplace=True)\n",
    "index_names = df[df['Total Compensation'] == 0].index\n",
    "df.drop(index=index_names,inplace=True)\n",
    "\n"
   ]
  },
  {
   "cell_type": "markdown",
   "metadata": {
    "id": "qkCM9OGL0XDC"
   },
   "source": [
    "## **Encoding**"
   ]
  },
  {
   "cell_type": "code",
   "execution_count": null,
   "metadata": {
    "id": "bd7S8u7Nix5J"
   },
   "outputs": [],
   "source": [
    "# Using the LabelEncoder form Sklearn to label the categorical values."
   ]
  },
  {
   "cell_type": "code",
   "execution_count": 45,
   "metadata": {
    "colab": {
     "base_uri": "https://localhost:8080/",
     "height": 305
    },
    "id": "I7VEQPjYwfSJ",
    "outputId": "c444a2d5-d3fa-4b1c-b7a6-8e9a0c09c916"
   },
   "outputs": [
    {
     "data": {
      "text/html": [
       "\n",
       "  <div id=\"df-c6c81a61-07e9-4300-ba9e-fc4d01a25529\">\n",
       "    <div class=\"colab-df-container\">\n",
       "      <div>\n",
       "<style scoped>\n",
       "    .dataframe tbody tr th:only-of-type {\n",
       "        vertical-align: middle;\n",
       "    }\n",
       "\n",
       "    .dataframe tbody tr th {\n",
       "        vertical-align: top;\n",
       "    }\n",
       "\n",
       "    .dataframe thead th {\n",
       "        text-align: right;\n",
       "    }\n",
       "</style>\n",
       "<table border=\"1\" class=\"dataframe\">\n",
       "  <thead>\n",
       "    <tr style=\"text-align: right;\">\n",
       "      <th></th>\n",
       "      <th>Year Type</th>\n",
       "      <th>Year</th>\n",
       "      <th>Organization Group</th>\n",
       "      <th>Department</th>\n",
       "      <th>Union</th>\n",
       "      <th>Job Family</th>\n",
       "      <th>Job</th>\n",
       "      <th>Salaries</th>\n",
       "      <th>Overtime</th>\n",
       "      <th>Other Salaries</th>\n",
       "      <th>Retirement</th>\n",
       "      <th>Health and Dental</th>\n",
       "      <th>Other Benefits</th>\n",
       "      <th>Total Compensation</th>\n",
       "    </tr>\n",
       "  </thead>\n",
       "  <tbody>\n",
       "    <tr>\n",
       "      <th>0</th>\n",
       "      <td>0</td>\n",
       "      <td>0</td>\n",
       "      <td>5</td>\n",
       "      <td>2</td>\n",
       "      <td>87</td>\n",
       "      <td>23</td>\n",
       "      <td>593</td>\n",
       "      <td>201924</td>\n",
       "      <td>0</td>\n",
       "      <td>0</td>\n",
       "      <td>123709</td>\n",
       "      <td>109506</td>\n",
       "      <td>210071</td>\n",
       "      <td>223803</td>\n",
       "    </tr>\n",
       "    <tr>\n",
       "      <th>1</th>\n",
       "      <td>0</td>\n",
       "      <td>0</td>\n",
       "      <td>5</td>\n",
       "      <td>2</td>\n",
       "      <td>87</td>\n",
       "      <td>23</td>\n",
       "      <td>595</td>\n",
       "      <td>202563</td>\n",
       "      <td>0</td>\n",
       "      <td>0</td>\n",
       "      <td>108044</td>\n",
       "      <td>58422</td>\n",
       "      <td>219487</td>\n",
       "      <td>209695</td>\n",
       "    </tr>\n",
       "    <tr>\n",
       "      <th>2</th>\n",
       "      <td>0</td>\n",
       "      <td>0</td>\n",
       "      <td>5</td>\n",
       "      <td>2</td>\n",
       "      <td>87</td>\n",
       "      <td>23</td>\n",
       "      <td>617</td>\n",
       "      <td>229618</td>\n",
       "      <td>0</td>\n",
       "      <td>0</td>\n",
       "      <td>151435</td>\n",
       "      <td>132345</td>\n",
       "      <td>217172</td>\n",
       "      <td>253861</td>\n",
       "    </tr>\n",
       "    <tr>\n",
       "      <th>4</th>\n",
       "      <td>0</td>\n",
       "      <td>0</td>\n",
       "      <td>5</td>\n",
       "      <td>2</td>\n",
       "      <td>87</td>\n",
       "      <td>23</td>\n",
       "      <td>611</td>\n",
       "      <td>32675</td>\n",
       "      <td>0</td>\n",
       "      <td>0</td>\n",
       "      <td>15083</td>\n",
       "      <td>8301</td>\n",
       "      <td>27020</td>\n",
       "      <td>50249</td>\n",
       "    </tr>\n",
       "    <tr>\n",
       "      <th>5</th>\n",
       "      <td>0</td>\n",
       "      <td>0</td>\n",
       "      <td>5</td>\n",
       "      <td>2</td>\n",
       "      <td>87</td>\n",
       "      <td>23</td>\n",
       "      <td>609</td>\n",
       "      <td>131677</td>\n",
       "      <td>0</td>\n",
       "      <td>0</td>\n",
       "      <td>77660</td>\n",
       "      <td>32304</td>\n",
       "      <td>134406</td>\n",
       "      <td>155675</td>\n",
       "    </tr>\n",
       "  </tbody>\n",
       "</table>\n",
       "</div>\n",
       "      <button class=\"colab-df-convert\" onclick=\"convertToInteractive('df-c6c81a61-07e9-4300-ba9e-fc4d01a25529')\"\n",
       "              title=\"Convert this dataframe to an interactive table.\"\n",
       "              style=\"display:none;\">\n",
       "        \n",
       "  <svg xmlns=\"http://www.w3.org/2000/svg\" height=\"24px\"viewBox=\"0 0 24 24\"\n",
       "       width=\"24px\">\n",
       "    <path d=\"M0 0h24v24H0V0z\" fill=\"none\"/>\n",
       "    <path d=\"M18.56 5.44l.94 2.06.94-2.06 2.06-.94-2.06-.94-.94-2.06-.94 2.06-2.06.94zm-11 1L8.5 8.5l.94-2.06 2.06-.94-2.06-.94L8.5 2.5l-.94 2.06-2.06.94zm10 10l.94 2.06.94-2.06 2.06-.94-2.06-.94-.94-2.06-.94 2.06-2.06.94z\"/><path d=\"M17.41 7.96l-1.37-1.37c-.4-.4-.92-.59-1.43-.59-.52 0-1.04.2-1.43.59L10.3 9.45l-7.72 7.72c-.78.78-.78 2.05 0 2.83L4 21.41c.39.39.9.59 1.41.59.51 0 1.02-.2 1.41-.59l7.78-7.78 2.81-2.81c.8-.78.8-2.07 0-2.86zM5.41 20L4 18.59l7.72-7.72 1.47 1.35L5.41 20z\"/>\n",
       "  </svg>\n",
       "      </button>\n",
       "      \n",
       "  <style>\n",
       "    .colab-df-container {\n",
       "      display:flex;\n",
       "      flex-wrap:wrap;\n",
       "      gap: 12px;\n",
       "    }\n",
       "\n",
       "    .colab-df-convert {\n",
       "      background-color: #E8F0FE;\n",
       "      border: none;\n",
       "      border-radius: 50%;\n",
       "      cursor: pointer;\n",
       "      display: none;\n",
       "      fill: #1967D2;\n",
       "      height: 32px;\n",
       "      padding: 0 0 0 0;\n",
       "      width: 32px;\n",
       "    }\n",
       "\n",
       "    .colab-df-convert:hover {\n",
       "      background-color: #E2EBFA;\n",
       "      box-shadow: 0px 1px 2px rgba(60, 64, 67, 0.3), 0px 1px 3px 1px rgba(60, 64, 67, 0.15);\n",
       "      fill: #174EA6;\n",
       "    }\n",
       "\n",
       "    [theme=dark] .colab-df-convert {\n",
       "      background-color: #3B4455;\n",
       "      fill: #D2E3FC;\n",
       "    }\n",
       "\n",
       "    [theme=dark] .colab-df-convert:hover {\n",
       "      background-color: #434B5C;\n",
       "      box-shadow: 0px 1px 3px 1px rgba(0, 0, 0, 0.15);\n",
       "      filter: drop-shadow(0px 1px 2px rgba(0, 0, 0, 0.3));\n",
       "      fill: #FFFFFF;\n",
       "    }\n",
       "  </style>\n",
       "\n",
       "      <script>\n",
       "        const buttonEl =\n",
       "          document.querySelector('#df-c6c81a61-07e9-4300-ba9e-fc4d01a25529 button.colab-df-convert');\n",
       "        buttonEl.style.display =\n",
       "          google.colab.kernel.accessAllowed ? 'block' : 'none';\n",
       "\n",
       "        async function convertToInteractive(key) {\n",
       "          const element = document.querySelector('#df-c6c81a61-07e9-4300-ba9e-fc4d01a25529');\n",
       "          const dataTable =\n",
       "            await google.colab.kernel.invokeFunction('convertToInteractive',\n",
       "                                                     [key], {});\n",
       "          if (!dataTable) return;\n",
       "\n",
       "          const docLinkHtml = 'Like what you see? Visit the ' +\n",
       "            '<a target=\"_blank\" href=https://colab.research.google.com/notebooks/data_table.ipynb>data table notebook</a>'\n",
       "            + ' to learn more about interactive tables.';\n",
       "          element.innerHTML = '';\n",
       "          dataTable['output_type'] = 'display_data';\n",
       "          await google.colab.output.renderOutput(dataTable, element);\n",
       "          const docLink = document.createElement('div');\n",
       "          docLink.innerHTML = docLinkHtml;\n",
       "          element.appendChild(docLink);\n",
       "        }\n",
       "      </script>\n",
       "    </div>\n",
       "  </div>\n",
       "  "
      ],
      "text/plain": [
       "   Year Type  Year  Organization Group  Department  Union  Job Family  Job  \\\n",
       "0          0     0                   5           2     87          23  593   \n",
       "1          0     0                   5           2     87          23  595   \n",
       "2          0     0                   5           2     87          23  617   \n",
       "4          0     0                   5           2     87          23  611   \n",
       "5          0     0                   5           2     87          23  609   \n",
       "\n",
       "   Salaries  Overtime  Other Salaries  Retirement  Health and Dental  \\\n",
       "0    201924         0               0      123709             109506   \n",
       "1    202563         0               0      108044              58422   \n",
       "2    229618         0               0      151435             132345   \n",
       "4     32675         0               0       15083               8301   \n",
       "5    131677         0               0       77660              32304   \n",
       "\n",
       "   Other Benefits  Total Compensation  \n",
       "0          210071              223803  \n",
       "1          219487              209695  \n",
       "2          217172              253861  \n",
       "4           27020               50249  \n",
       "5          134406              155675  "
      ]
     },
     "execution_count": 45,
     "metadata": {},
     "output_type": "execute_result"
    }
   ],
   "source": [
    "encoder = LabelEncoder()\n",
    "df = df.apply(encoder.fit_transform)\n",
    "df.head()"
   ]
  },
  {
   "cell_type": "markdown",
   "metadata": {
    "id": "TsGpXSdM0ltc"
   },
   "source": [
    "## **Using Sklearn Decision Tree Regressor**"
   ]
  },
  {
   "cell_type": "code",
   "execution_count": 74,
   "metadata": {
    "id": "ZNSJggpni5t4"
   },
   "outputs": [],
   "source": [
    "# The dataset is split, the last feature that the total compensation is used as Y. And the rest of the columns are used as X."
   ]
  },
  {
   "cell_type": "code",
   "execution_count": 75,
   "metadata": {
    "id": "oeDlRQjLjQO_"
   },
   "outputs": [],
   "source": [
    "# This section used the baseline decision tree regressor from sklearn.\n",
    "# The minimun sample for a split is set to 100 and the depth is varied from 1 to 10."
   ]
  },
  {
   "cell_type": "code",
   "execution_count": 46,
   "metadata": {
    "id": "jMdByKqe0chf"
   },
   "outputs": [],
   "source": [
    "X = df.iloc[:, :-1].values\n",
    "Y = df.iloc[:, -1].values.reshape(-1,1)\n",
    "X_train, X_test, Y_train, Y_test = train_test_split(X, Y, test_size=.3, random_state=41)\n",
    "from sklearn.tree import DecisionTreeRegressor\n",
    "regressor = DecisionTreeRegressor(max_depth = 5)"
   ]
  },
  {
   "cell_type": "code",
   "execution_count": 47,
   "metadata": {
    "colab": {
     "base_uri": "https://localhost:8080/"
    },
    "id": "rbA9VZIu05Xg",
    "outputId": "50be496b-9add-4c5d-cea7-48f7916b629d"
   },
   "outputs": [
    {
     "name": "stdout",
     "output_type": "stream",
     "text": [
      "----------------------------------------------------------------------------------------------------------\n",
      "Depth : 1\n",
      "Decision Tree Regression\n",
      "Mean Square Error: 10357543182.104027 \n",
      "Root mean Square Error: 101772.01571210047 \n",
      "Mean Absolute Error 86473.82902797194 \n",
      "R sq value: 0.7157626736893592\n",
      "----------------------------------------------------------------------------------------------------------\n",
      "Depth : 2\n",
      "Decision Tree Regression\n",
      "Mean Square Error: 3573253794.365164 \n",
      "Root mean Square Error: 59776.69942682653 \n",
      "Mean Absolute Error 48419.929813037816 \n",
      "R sq value: 0.9019408283525604\n",
      "----------------------------------------------------------------------------------------------------------\n",
      "Depth : 3\n",
      "Decision Tree Regression\n",
      "Mean Square Error: 1932327091.3397505 \n",
      "Root mean Square Error: 43958.24258702514 \n",
      "Mean Absolute Error 32886.874736828846 \n",
      "R sq value: 0.9469720303026093\n",
      "----------------------------------------------------------------------------------------------------------\n",
      "Depth : 4\n",
      "Decision Tree Regression\n",
      "Mean Square Error: 1140247390.4996903 \n",
      "Root mean Square Error: 33767.549370656 \n",
      "Mean Absolute Error 23669.03273332402 \n",
      "R sq value: 0.9687087117176296\n",
      "----------------------------------------------------------------------------------------------------------\n",
      "Depth : 5\n",
      "Decision Tree Regression\n",
      "Mean Square Error: 720980970.3752295 \n",
      "Root mean Square Error: 26851.0888117266 \n",
      "Mean Absolute Error 18785.745482851224 \n",
      "R sq value: 0.980214448567843\n",
      "----------------------------------------------------------------------------------------------------------\n",
      "Depth : 6\n",
      "Decision Tree Regression\n",
      "Mean Square Error: 472035119.7738267 \n",
      "Root mean Square Error: 21726.369226675375 \n",
      "Mean Absolute Error 14851.296973379938 \n",
      "R sq value: 0.9870461558295931\n",
      "----------------------------------------------------------------------------------------------------------\n",
      "Depth : 7\n",
      "Decision Tree Regression\n",
      "Mean Square Error: 334563479.3714311 \n",
      "Root mean Square Error: 18291.076495696776 \n",
      "Mean Absolute Error 12382.778078154588 \n",
      "R sq value: 0.9908187272613037\n",
      "----------------------------------------------------------------------------------------------------------\n",
      "Depth : 8\n",
      "Decision Tree Regression\n",
      "Mean Square Error: 248532329.8785445 \n",
      "Root mean Square Error: 15764.908178563695 \n",
      "Mean Absolute Error 10349.564960334199 \n",
      "R sq value: 0.9931796407985546\n",
      "----------------------------------------------------------------------------------------------------------\n",
      "Depth : 9\n",
      "Decision Tree Regression\n",
      "Mean Square Error: 188140385.53926313 \n",
      "Root mean Square Error: 13716.427579339423 \n",
      "Mean Absolute Error 9039.825500267712 \n",
      "R sq value: 0.9948369493405413\n",
      "----------------------------------------------------------------------------------------------------------\n",
      "Depth : 10\n",
      "Decision Tree Regression\n",
      "Mean Square Error: 148624177.54188246 \n",
      "Root mean Square Error: 12191.151608518468 \n",
      "Mean Absolute Error 7839.767848539823 \n",
      "R sq value: 0.9959213745859526\n"
     ]
    }
   ],
   "source": [
    "depths = []\n",
    "MSE = []\n",
    "scores = []\n",
    "for depth in  range(1,11):\n",
    "  dtr = DecisionTreeRegressor(max_depth = depth, min_samples_split=100)\n",
    "  dtr.fit(X_train, Y_train)\n",
    "  y_pred = dtr.predict(X_test)\n",
    "  mse = mean_squared_error(Y_test,y_pred)\n",
    "  mae = mean_absolute_error(Y_test,y_pred)\n",
    "  rmse = sqrt(mse)\n",
    "  r2Score = r2_score(Y_test,y_pred)\n",
    "  depths.append(depth)\n",
    "  MSE.append(mse)\n",
    "  scores.append(r2Score)\n",
    "  print(\"----------------------------------------------------------------------------------------------------------\")\n",
    "  print(\"Depth : \" + str(depth))\n",
    "  print(\"Decision Tree Regression\")\n",
    "  print(\"Mean Square Error:\",mse,\"\\nRoot mean Square Error:\",rmse,\"\\nMean Absolute Error\",mae,\"\\nR sq value:\",r2Score)\n"
   ]
  },
  {
   "cell_type": "code",
   "execution_count": 48,
   "metadata": {
    "colab": {
     "base_uri": "https://localhost:8080/",
     "height": 279
    },
    "id": "5Sn89kiI06YJ",
    "outputId": "ef2f01fe-ca78-46f5-8a51-52561c88dc39"
   },
   "outputs": [
    {
     "data": {
      "image/png": "[encoded data removed]",
      "text/plain": [
       "<Figure size 432x288 with 1 Axes>"
      ]
     },
     "metadata": {
      "needs_background": "light"
     },
     "output_type": "display_data"
    }
   ],
   "source": [
    "plt.plot(depths, scores )\n",
    "plt.xlabel(\"depths\")\n",
    "plt.ylabel(\"scores\")\n",
    "plt.show()"
   ]
  },
  {
   "cell_type": "code",
   "execution_count": 49,
   "metadata": {
    "colab": {
     "base_uri": "https://localhost:8080/",
     "height": 290
    },
    "id": "tFFYSsQq09I8",
    "outputId": "45dc4da9-ef2c-4d94-9d77-9d92fcd40996"
   },
   "outputs": [
    {
     "data": {
      "image/png": "[encoded data removed]",
      "text/plain": [
       "<Figure size 432x288 with 1 Axes>"
      ]
     },
     "metadata": {
      "needs_background": "light"
     },
     "output_type": "display_data"
    }
   ],
   "source": [
    "plt.plot(depths, MSE )\n",
    "plt.xlabel(\"depths\")\n",
    "plt.ylabel(\"Mean Squared Error\")\n",
    "plt.show()"
   ]
  },
  {
   "cell_type": "markdown",
   "metadata": {
    "id": "07lvc8Ql1I4U"
   },
   "source": [
    "## **Node Class**"
   ]
  },
  {
   "cell_type": "code",
   "execution_count": 76,
   "metadata": {
    "id": "PM42gh9djrE_"
   },
   "outputs": [],
   "source": [
    "# Node class for the Decision Tree. It contains value of the node, its left child, right child, the index of the feature used, threshold and the information gain."
   ]
  },
  {
   "cell_type": "code",
   "execution_count": 50,
   "metadata": {
    "id": "Xmgaw8PD0-eM"
   },
   "outputs": [],
   "source": [
    "class Node():\n",
    "    def __init__(self, i_feature=None, th=None, left=None, right=None, info_gain=None, value=None):\n",
    "        self.value = value\n",
    "        self.left = left\n",
    "        self.right = right\n",
    "        self.i_feature = i_feature\n",
    "        self.th = th\n",
    "        self.info_gain = info_gain"
   ]
  },
  {
   "cell_type": "markdown",
   "metadata": {
    "id": "zMRrACwW1Pmo"
   },
   "source": [
    "## **Decision Tree Regressor**"
   ]
  },
  {
   "cell_type": "code",
   "execution_count": 77,
   "metadata": {
    "id": "DmOO4CSl1R1t"
   },
   "outputs": [],
   "source": [
    "class DecisionTreeRegressor():\n",
    "  # Initialize root, minimun samples for split ( default is 100 ) and maximun depth ( default = 5)\n",
    "    def __init__(self, min_samples=100, max_depth=5):\n",
    "        self.root = None\n",
    "        self.min_samples = min_samples\n",
    "        self.max_depth = max_depth\n",
    "  # Build a tree give the training data.\n",
    "    def tree_builder(self, ds, curr_depth=0):\n",
    "        split_ = {}\n",
    "        X, Y = ds[:,:-1], ds[:,-1]\n",
    "        n_samples, n_features = np.shape(X)\n",
    "        # splits until  number of samples is less than the min_samples or untill the max_depth is not reached.\n",
    "        if n_samples>=self.min_samples and curr_depth<=self.max_depth:\n",
    "            split_ = self.best_split(ds, n_samples, n_features)\n",
    "            \n",
    "            if split_[\"info_gain\"]>0:\n",
    "              # Recursive called to build left and right subtrees.\n",
    "                l_tree = self.tree_builder(split_[\"ds_left\"], curr_depth+1)\n",
    "                r_tree = self.tree_builder(split_[\"ds_right\"], curr_depth+1)\n",
    "                return Node(split_[\"i_feature\"], split_[\"th\"],\n",
    "                            l_tree, r_tree, split_[\"info_gain\"])\n",
    "\n",
    "        leaf_value = np.mean(Y)\n",
    "        return Node(value=leaf_value)\n",
    "\n",
    "    def best_split(self, ds, n_samples, n_features):\n",
    "        split_ = {}\n",
    "        max_info_gain = -float(\"inf\")\n",
    "        # Iterate through every feature and iterate through every unique value for that feature and calculate the information gain\n",
    "        # Choose the max_information gain and return the best_split\n",
    "        for i_feature in range(n_features):\n",
    "            feature_values = ds[:, i_feature]\n",
    "            possible_ths = np.unique(feature_values)\n",
    "            for th in possible_ths:\n",
    "                ds_left, ds_right = np.array([row for row in ds if row[i_feature]<=th]) , np.array([row for row in ds if row[i_feature]>th])\n",
    "                if len(ds_left)>0 and len(ds_right)>0:\n",
    "                    y, left_y, right_y = ds[:, -1], ds_left[:, -1], ds_right[:, -1]\n",
    "                    # compute information gain\n",
    "                    left_w = len(left_y) / len(y)\n",
    "                    right_w = len(right_y) / len(y)\n",
    "                    curr_info_gain =  np.var(y) - (left_w * np.var(left_y) + right_w * np.var(right_y))\n",
    "                    if curr_info_gain>max_info_gain:\n",
    "                        split_[\"ds_left\"] = ds_left\n",
    "                        split_[\"ds_right\"] = ds_right\n",
    "                        split_[\"i_feature\"] = i_feature\n",
    "                        split_[\"th\"] = th\n",
    "                        split_[\"info_gain\"] = curr_info_gain\n",
    "                        max_info_gain = curr_info_gain\n",
    "\n",
    "        # return best split\n",
    "        return split_\n",
    "  # Fit method calls the tree_builder\n",
    "    def fit(self, X, Y):\n",
    "        ds = np.concatenate((X, Y), axis=1)\n",
    "        self.root = self.tree_builder(ds)\n",
    "  \n",
    "  \n",
    "  \n",
    "  \n",
    "  # Used to make prediction on test data.\n",
    "    def prediction(self, x, tree):\n",
    "        if tree.value!=None: return tree.value\n",
    "        feature_val = x[tree.i_feature]\n",
    "        if feature_val<=tree.th:\n",
    "            return self.prediction(x, tree.left)\n",
    "        else:\n",
    "            return self.prediction(x, tree.right)\n",
    "\n",
    "    def predict(self, X):\n",
    "        preditions = [self.prediction(x, self.root) for x in X]\n",
    "        return preditions\n",
    "    "
   ]
  },
  {
   "cell_type": "code",
   "execution_count": 68,
   "metadata": {
    "id": "_p6MtpVE1W8i"
   },
   "outputs": [],
   "source": [
    "X = df.iloc[:4000,:-1].values\n",
    "Y = df.iloc[:4000, -1].values.reshape(-1,1)\n",
    "X_train, X_test, Y_train, Y_test = train_test_split(X, Y, test_size=.3, random_state=41)"
   ]
  },
  {
   "cell_type": "code",
   "execution_count": 69,
   "metadata": {
    "colab": {
     "base_uri": "https://localhost:8080/"
    },
    "id": "PLiua5meTzqD",
    "outputId": "eb94c5cd-d90a-48b9-ee4f-46bc9ea2b2ef"
   },
   "outputs": [
    {
     "name": "stdout",
     "output_type": "stream",
     "text": [
      "(4000, 13) (4000, 1)\n"
     ]
    }
   ],
   "source": [
    "print(X.shape, Y.shape)"
   ]
  },
  {
   "cell_type": "markdown",
   "metadata": {
    "id": "binNwwapmarD"
   },
   "source": [
    "Calculate Mean squared error, mean absolute error, root mean squared error and r2score for depth 1 to 10.\n",
    "Note: Data used is on 4000 entries, this is because training on the whole training data set takes a very long time. "
   ]
  },
  {
   "cell_type": "code",
   "execution_count": 70,
   "metadata": {
    "colab": {
     "base_uri": "https://localhost:8080/"
    },
    "id": "nWWKDPbT1g3Q",
    "outputId": "53733892-afb3-4fa1-a97c-941a1162d4fa"
   },
   "outputs": [
    {
     "name": "stdout",
     "output_type": "stream",
     "text": [
      "----------------------------------------------------------------------------------------------------------\n",
      "Depth : 1\n",
      "Decision Tree Regression\n",
      "Mean Square Error: 2965392133.372024 \n",
      "Root mean Square Error: 54455.41417868405 \n",
      "Mean Absolute Error 42492.91410682097 \n",
      "R sq value: 0.9166424832013067\n",
      "----------------------------------------------------------------------------------------------------------\n",
      "Depth : 2\n",
      "Decision Tree Regression\n",
      "Mean Square Error: 1684076488.9114518 \n",
      "Root mean Square Error: 41037.50100714531 \n",
      "Mean Absolute Error 29914.114746175695 \n",
      "R sq value: 0.9526604145755622\n",
      "----------------------------------------------------------------------------------------------------------\n",
      "Depth : 3\n",
      "Decision Tree Regression\n",
      "Mean Square Error: 1047878640.0346987 \n",
      "Root mean Square Error: 32370.95364728538 \n",
      "Mean Absolute Error 21276.972189026896 \n",
      "R sq value: 0.9705440098944492\n",
      "----------------------------------------------------------------------------------------------------------\n",
      "Depth : 4\n",
      "Decision Tree Regression\n",
      "Mean Square Error: 718955267.9335902 \n",
      "Root mean Square Error: 26813.34123032022 \n",
      "Mean Absolute Error 16787.96807471723 \n",
      "R sq value: 0.9797900840331242\n",
      "----------------------------------------------------------------------------------------------------------\n",
      "Depth : 5\n",
      "Decision Tree Regression\n",
      "Mean Square Error: 597245462.627001 \n",
      "Root mean Square Error: 24438.605987801373 \n",
      "Mean Absolute Error 14677.243740967006 \n",
      "R sq value: 0.9832113607763362\n",
      "----------------------------------------------------------------------------------------------------------\n",
      "Depth : 6\n",
      "Decision Tree Regression\n",
      "Mean Square Error: 511358285.10261333 \n",
      "Root mean Square Error: 22613.2325221896 \n",
      "Mean Absolute Error 13692.132765542901 \n",
      "R sq value: 0.9856256592978409\n",
      "----------------------------------------------------------------------------------------------------------\n",
      "Depth : 7\n",
      "Decision Tree Regression\n",
      "Mean Square Error: 493024587.4984243 \n",
      "Root mean Square Error: 22204.156986889288 \n",
      "Mean Absolute Error 13146.963884754728 \n",
      "R sq value: 0.986141021663858\n",
      "----------------------------------------------------------------------------------------------------------\n",
      "Depth : 8\n",
      "Decision Tree Regression\n",
      "Mean Square Error: 492860252.7129435 \n",
      "Root mean Square Error: 22200.456137497345 \n",
      "Mean Absolute Error 13142.78257759661 \n",
      "R sq value: 0.9861456411337376\n",
      "----------------------------------------------------------------------------------------------------------\n",
      "Depth : 9\n",
      "Decision Tree Regression\n",
      "Mean Square Error: 492860252.7129435 \n",
      "Root mean Square Error: 22200.456137497345 \n",
      "Mean Absolute Error 13142.78257759661 \n",
      "R sq value: 0.9861456411337376\n",
      "----------------------------------------------------------------------------------------------------------\n",
      "Depth : 10\n",
      "Decision Tree Regression\n",
      "Mean Square Error: 492860252.7129435 \n",
      "Root mean Square Error: 22200.456137497345 \n",
      "Mean Absolute Error 13142.78257759661 \n",
      "R sq value: 0.9861456411337376\n"
     ]
    }
   ],
   "source": [
    "depths = []\n",
    "MSE = []\n",
    "scores = []\n",
    "for depth in  range(1,11):\n",
    "  dtr = DecisionTreeRegressor(max_depth = depth)\n",
    "  dtr.fit(X_train, Y_train)\n",
    "  y_pred = dtr.predict(X_test)\n",
    "  mse = mean_squared_error(Y_test,y_pred)\n",
    "  mae = mean_absolute_error(Y_test,y_pred)\n",
    "  rmse = sqrt(mse)\n",
    "  r2Score = r2_score(Y_test,y_pred)\n",
    "  depths.append(depth)\n",
    "  MSE.append(mse)\n",
    "  scores.append(r2Score)\n",
    "  print(\"----------------------------------------------------------------------------------------------------------\")\n",
    "  print(\"Depth : \" + str(depth))\n",
    "  print(\"Decision Tree Regression\")\n",
    "  print(\"Mean Square Error:\",mse,\"\\nRoot mean Square Error:\",rmse,\"\\nMean Absolute Error\",mae,\"\\nR sq value:\",r2Score)\n"
   ]
  },
  {
   "cell_type": "markdown",
   "metadata": {
    "id": "EOETdjKCmwMX"
   },
   "source": [
    "Plot Depths vs R2Score "
   ]
  },
  {
   "cell_type": "code",
   "execution_count": 71,
   "metadata": {
    "colab": {
     "base_uri": "https://localhost:8080/",
     "height": 279
    },
    "id": "LL2rVCD11mHA",
    "outputId": "d873e346-ec8d-4e79-d3e4-0151f4e8e9f8"
   },
   "outputs": [
    {
     "data": {
      "image/png": "[encoded data removed]",
      "text/plain": [
       "<Figure size 432x288 with 1 Axes>"
      ]
     },
     "metadata": {
      "needs_background": "light"
     },
     "output_type": "display_data"
    }
   ],
   "source": [
    "plt.plot(depths, scores )\n",
    "plt.xlabel(\"depths\")\n",
    "plt.ylabel(\"scores\")\n",
    "plt.show()"
   ]
  },
  {
   "cell_type": "markdown",
   "metadata": {
    "id": "2b6FT_BAm08I"
   },
   "source": [
    "Plot Depths vs Mean Squared Error "
   ]
  },
  {
   "cell_type": "code",
   "execution_count": 72,
   "metadata": {
    "colab": {
     "base_uri": "https://localhost:8080/",
     "height": 290
    },
    "id": "7dpsglje1n_4",
    "outputId": "7cc160bd-6ca7-43ca-9350-e3b6183a0387"
   },
   "outputs": [
    {
     "data": {
      "image/png": "[encoded data removed]",
      "text/plain": [
       "<Figure size 432x288 with 1 Axes>"
      ]
     },
     "metadata": {
      "needs_background": "light"
     },
     "output_type": "display_data"
    }
   ],
   "source": [
    "plt.plot(depths, MSE )\n",
    "plt.xlabel(\"depths\")\n",
    "plt.ylabel(\"Mean Squared Error\")\n",
    "plt.show()"
   ]
  },
  {
   "cell_type": "code",
   "execution_count": null,
   "metadata": {
    "id": "fNcmLV3LULZr"
   },
   "outputs": [],
   "source": []
  },
  {
   "cell_type": "code",
   "execution_count": null,
   "metadata": {
    "id": "rL7Nz-0hULWv"
   },
   "outputs": [],
   "source": []
  },
  {
   "cell_type": "code",
   "execution_count": null,
   "metadata": {
    "id": "kEBbLYf2ULTU"
   },
   "outputs": [],
   "source": []
  },
  {
   "cell_type": "markdown",
   "metadata": {
    "id": "jGsqdKtcUXc1"
   },
   "source": [
    "## **Evaluation on total data**"
   ]
  },
  {
   "cell_type": "markdown",
   "metadata": {
    "id": "JK7CQACom-1z"
   },
   "source": [
    "Calculate Mean squared error, mean absolute error, root mean squared error and r2score for depth 1 to 10."
   ]
  },
  {
   "cell_type": "code",
   "execution_count": null,
   "metadata": {
    "id": "xGFiHlBqULMJ"
   },
   "outputs": [],
   "source": [
    "X = df.iloc[:,:-1].values\n",
    "Y = df.iloc[:, -1].values.reshape(-1,1)\n",
    "X_train, X_test, Y_train, Y_test = train_test_split(X, Y, test_size=.3, random_state=41)"
   ]
  },
  {
   "cell_type": "code",
   "execution_count": null,
   "metadata": {
    "colab": {
     "base_uri": "https://localhost:8080/"
    },
    "id": "KP3ybfid6LmO",
    "outputId": "20eddf35-bcd6-47c2-e9ff-2169329f454c"
   },
   "outputs": [
    {
     "name": "stdout",
     "output_type": "stream",
     "text": [
      "----------------------------------------------------------------------------------------------------------\n",
      "Depth : 1\n",
      "Decision Tree Regression\n",
      "Mean Square Error: 835701.7983508782 \n",
      "Root mean Square Error: 914.1672704439151 \n",
      "Mean Absolute Error 722.8251906257955 \n",
      "R sq value: 0.8772882057410759\n",
      "----------------------------------------------------------------------------------------------------------\n",
      "Depth : 2\n",
      "Decision Tree Regression\n",
      "Mean Square Error: 498386.3878596095 \n",
      "Root mean Square Error: 705.9648630488698 \n",
      "Mean Absolute Error 546.7109729497718 \n",
      "R sq value: 0.9268185278419145\n",
      "----------------------------------------------------------------------------------------------------------\n",
      "Depth : 3\n",
      "Decision Tree Regression\n",
      "Mean Square Error: 239445.7002559461 \n",
      "Root mean Square Error: 489.33189172170876 \n",
      "Mean Absolute Error 375.71480966903437 \n",
      "R sq value: 0.9648405548917403\n",
      "----------------------------------------------------------------------------------------------------------\n",
      "Depth : 4\n",
      "Decision Tree Regression\n",
      "Mean Square Error: 150240.68893091747 \n",
      "Root mean Square Error: 387.6089381463197 \n",
      "Mean Absolute Error 276.90827520279703 \n",
      "R sq value: 0.9779391350529689\n",
      "----------------------------------------------------------------------------------------------------------\n",
      "Depth : 5\n",
      "Decision Tree Regression\n",
      "Mean Square Error: 111047.58013043753 \n",
      "Root mean Square Error: 333.23802323630105 \n",
      "Mean Absolute Error 227.12475554194762 \n",
      "R sq value: 0.9836941265020513\n",
      "----------------------------------------------------------------------------------------------------------\n",
      "Depth : 6\n",
      "Decision Tree Regression\n",
      "Mean Square Error: 91710.99346348752 \n",
      "Root mean Square Error: 302.83822985793506 \n",
      "Mean Absolute Error 196.33871968217977 \n",
      "R sq value: 0.9865334493914205\n",
      "----------------------------------------------------------------------------------------------------------\n",
      "Depth : 7\n",
      "Decision Tree Regression\n",
      "Mean Square Error: 81994.29375243402 \n",
      "Root mean Square Error: 286.34645755174625 \n",
      "Mean Absolute Error 177.7561744241466 \n",
      "R sq value: 0.9879602186746402\n",
      "----------------------------------------------------------------------------------------------------------\n",
      "Depth : 8\n",
      "Decision Tree Regression\n",
      "Mean Square Error: 79083.91241872829 \n",
      "Root mean Square Error: 281.2186203271901 \n",
      "Mean Absolute Error 170.0128379072716 \n",
      "R sq value: 0.9883875698136966\n",
      "----------------------------------------------------------------------------------------------------------\n",
      "Depth : 9\n",
      "Decision Tree Regression\n",
      "Mean Square Error: 77870.69014647682 \n",
      "Root mean Square Error: 279.05320307510686 \n",
      "Mean Absolute Error 166.4850346969147 \n",
      "R sq value: 0.9885657155137019\n",
      "----------------------------------------------------------------------------------------------------------\n",
      "Depth : 10\n",
      "Decision Tree Regression\n",
      "Mean Square Error: 77560.00475032035 \n",
      "Root mean Square Error: 278.4959690019235 \n",
      "Mean Absolute Error 165.41131488573848 \n",
      "R sq value: 0.9886113355691901\n"
     ]
    }
   ],
   "source": [
    "depths = []\n",
    "MSE = []\n",
    "scores = []\n",
    "for depth in  range(1,11):\n",
    "  dtr = DecisionTreeRegressor(max_depth = depth)\n",
    "  dtr.fit(X_train, Y_train)\n",
    "  y_pred = dtr.predict(X_test)\n",
    "  mse = mean_squared_error(Y_test,y_pred)\n",
    "  mae = mean_absolute_error(Y_test,y_pred)\n",
    "  rmse = sqrt(mse)\n",
    "  r2Score = r2_score(Y_test,y_pred)\n",
    "  depths.append(depth)\n",
    "  MSE.append(mse)\n",
    "  scores.append(r2Score)\n",
    "  print(\"----------------------------------------------------------------------------------------------------------\")\n",
    "  print(\"Depth : \" + str(depth))\n",
    "  print(\"Decision Tree Regression\")\n",
    "  print(\"Mean Square Error:\",mse,\"\\nRoot mean Square Error:\",rmse,\"\\nMean Absolute Error\",mae,\"\\nR sq value:\",r2Score)\n"
   ]
  },
  {
   "cell_type": "markdown",
   "metadata": {
    "id": "_7TvJHGCnbql"
   },
   "source": [
    "Plot Depths vs R2Score "
   ]
  },
  {
   "cell_type": "code",
   "execution_count": null,
   "metadata": {
    "colab": {
     "base_uri": "https://localhost:8080/",
     "height": 279
    },
    "id": "kauDIyYaXp3-",
    "outputId": "03fd4f5d-1116-45e3-aa8f-f277b9b96b21"
   },
   "outputs": [
    {
     "data": {
      "image/png": "[encoded data removed]",
      "text/plain": [
       "<Figure size 432x288 with 1 Axes>"
      ]
     },
     "metadata": {
      "needs_background": "light"
     },
     "output_type": "display_data"
    }
   ],
   "source": [
    "plt.plot(depths, scores )\n",
    "plt.xlabel(\"depths\")\n",
    "plt.ylabel(\"scores\")\n",
    "plt.show()"
   ]
  },
  {
   "cell_type": "markdown",
   "metadata": {
    "id": "JUGM8q0Ancz0"
   },
   "source": [
    "Plot Depths vs Mean Squared Error"
   ]
  },
  {
   "cell_type": "code",
   "execution_count": null,
   "metadata": {
    "colab": {
     "base_uri": "https://localhost:8080/",
     "height": 279
    },
    "id": "1LImr5HEXqrx",
    "outputId": "846907a1-4d87-4930-85f4-64ead08b7444"
   },
   "outputs": [
    {
     "data": {
      "image/png": "[encoded data removed]",
      "text/plain": [
       "<Figure size 432x288 with 1 Axes>"
      ]
     },
     "metadata": {
      "needs_background": "light"
     },
     "output_type": "display_data"
    }
   ],
   "source": [
    "plt.plot(depths, MSE )\n",
    "plt.xlabel(\"depths\")\n",
    "plt.ylabel(\"Mean Squared Error\")\n",
    "plt.show()"
   ]
  }
 ],
 "metadata": {
  "colab": {
   "provenance": []
  },
  "kernelspec": {
   "display_name": "Python 3 (ipykernel)",
   "language": "python",
   "name": "python3"
  },
  "language_info": {
   "codemirror_mode": {
    "name": "ipython",
    "version": 3
   },
   "file_extension": ".py",
   "mimetype": "text/x-python",
   "name": "python",
   "nbconvert_exporter": "python",
   "pygments_lexer": "ipython3",
   "version": "3.9.7"
  }
 },
 "nbformat": 4,
 "nbformat_minor": 1
}
